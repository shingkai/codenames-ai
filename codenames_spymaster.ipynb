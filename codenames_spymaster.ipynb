{
 "cells": [
  {
   "cell_type": "markdown",
   "id": "851b5c0a-f3b4-4eec-94dc-64a5352f0f52",
   "metadata": {},
   "source": [
    "# CodeNames Spymaster AI\n",
    "## Using SBert word embeddings to generate clues for the game CodeNames"
   ]
  },
  {
   "cell_type": "markdown",
   "id": "e37b3ba2-516a-4d93-aa83-7f3306651b2e",
   "metadata": {},
   "source": [
    "### Overview of Approach\n",
    "#### One-Time pre-setup\n",
    "1. Prepare a word embedding model, e.g. 'sentence-transformers/all-MiniLM-L6-v2'\n",
    "2. Prepare a vector database, e.g. Milvus to store the dictionary of word embeddings.\n",
    "3. Iterate over a dictionary of words, compute word embeddings for each, and insert into a vector database. Note that these words represent the set of possible clue words, not just the possible game words (e.g. the [Codenames AI Competition word pool](https://github.com/CodenamesAICompetition/Game/blob/master/codenames/game_wordpool.txt)).\n",
    "\n",
    "#### Game Setup\n",
    "1. randomly select 9 red words, 8 blue words, 7 grey words, and 1 black word from the dictionary to constitute the game board\n",
    "2. compute word embeddings for the words on the board\n",
    "\n",
    "\n",
    "#### Generating Clues\n",
    "1. compute clusters on the embeddings generated during game setup that group red, blue, grey, and black words s.t. there is no overlap (there may be multiple clusters per color). TODO: select clustering algo, e.g. (Agglomerative Clustering)[https://www.sbert.net/examples/applications/clustering/README.html#agglomerative-clustering]\n",
    "2. compute the centroid of each cluster. TODO: select centroid algo\n",
    "3. \n",
    "\n",
    "### Visualization\n",
    "\n",
    "### Follow-up\n",
    "1. reduce the size and precision of the embeddings to reduce vector DB size, e.g. (dimensionality reduction)[https://github.com/UKPLab/sentence-transformers/blob/master/examples/training/distillation/dimensionality_reduction.py]\n",
    "2. Create a guesser and adjust interfaces to match the Google [Codenames AI Competition](https://github.com/CodenamesAICompetition/Game)\n"
   ]
  },
  {
   "cell_type": "markdown",
   "id": "b06635fc-73d3-402b-85a8-f5ec920a9899",
   "metadata": {},
   "source": [
    "### Pre-Setup:"
   ]
  },
  {
   "cell_type": "markdown",
   "id": "57286dd6-0e32-46f9-bb96-a6276317380f",
   "metadata": {},
   "source": [
    "#### 1. Load the dictionary\n",
    "filtering out words less than 3 letters and removing some common words (e.g. \"the\", \"and\", etc)\n",
    "\n",
    "Sources:\n",
    "~10k: 10k most common words on wikipedia\n",
    "https://en.wiktionary.org/wiki/Wiktionary:Frequency_lists/English/Wikipedia_(2016)\n",
    "https://wortschatz.uni-leipzig.de/de/download/English\n",
    "\n",
    "~250k: Unix `/usr/share/dict/words`\n",
    "\n"
   ]
  },
  {
   "cell_type": "code",
   "execution_count": 3,
   "id": "dbdf97f6-6248-49ce-8783-42a19dc7945a",
   "metadata": {},
   "outputs": [],
   "source": [
    "with open('words/10k_wiki_words.txt') as f:\n",
    "    dict_words = f.read().splitlines()"
   ]
  },
  {
   "cell_type": "code",
   "execution_count": 4,
   "id": "7e05f5fb-8cd5-4c2b-8ff0-c272c8af6ff8",
   "metadata": {},
   "outputs": [
    {
     "data": {
      "text/plain": [
       "8973"
      ]
     },
     "execution_count": 4,
     "metadata": {},
     "output_type": "execute_result"
    }
   ],
   "source": [
    "len(dict_words)"
   ]
  },
  {
   "cell_type": "markdown",
   "id": "f717112f-6ab6-49af-9283-bd73e00a3499",
   "metadata": {},
   "source": [
    "#### 2. Compute Embeddings"
   ]
  },
  {
   "cell_type": "code",
   "execution_count": 5,
   "id": "7ac3aa82-318a-401d-b52f-48b1cf43a69d",
   "metadata": {},
   "outputs": [],
   "source": [
    "from sentence_transformers import SentenceTransformer, util\n",
    "\n",
    "model = SentenceTransformer('sentence-transformers/all-MiniLM-L6-v2')"
   ]
  },
  {
   "cell_type": "code",
   "execution_count": 6,
   "id": "c7698db3-d76e-4943-93c3-4e9f17c0cf80",
   "metadata": {},
   "outputs": [],
   "source": [
    "dict_embeddings = list(map(lambda x: model.encode(x), dict_words))"
   ]
  },
  {
   "cell_type": "code",
   "execution_count": 7,
   "id": "8eee51ac-30c1-4dd7-bba3-ef1323357c56",
   "metadata": {},
   "outputs": [
    {
     "data": {
      "text/plain": [
       "8973"
      ]
     },
     "execution_count": 7,
     "metadata": {},
     "output_type": "execute_result"
    }
   ],
   "source": [
    "len(dict_embeddings)"
   ]
  },
  {
   "cell_type": "code",
   "execution_count": null,
   "id": "52ff77fd-d2ba-42d4-a00c-3d3c65c5ed51",
   "metadata": {},
   "outputs": [],
   "source": []
  },
  {
   "cell_type": "code",
   "execution_count": 18,
   "id": "255048d4-2495-47ec-92bb-7194a2cd6d60",
   "metadata": {},
   "outputs": [],
   "source": [
    "import requests\n",
    "url = \"http://localhost:11434/api/embeddings\"\n",
    "request = {\"model\": \"gemma:2b\", \"prompt\": \"hello\"}\n",
    "\n",
    "response = requests.post(url, json=request)"
   ]
  },
  {
   "cell_type": "code",
   "execution_count": 26,
   "id": "40451ff2-aeee-415d-a37d-adcf19ab14f7",
   "metadata": {},
   "outputs": [
    {
     "name": "stdout",
     "output_type": "stream",
     "text": [
      "Request successful!\n",
      "2048\n"
     ]
    }
   ],
   "source": [
    "if response.status_code == 200:\n",
    "    print(\"Request successful!\")\n",
    "    # Access the response data\n",
    "    response_data = response.json()\n",
    "    print(len(response_data.get(\"embedding\")))\n",
    "else:\n",
    "    print(f\"Request failed with status code {response.status_code}\")"
   ]
  },
  {
   "cell_type": "code",
   "execution_count": null,
   "id": "f5dd6b27-ebeb-479d-a439-12ba91764316",
   "metadata": {},
   "outputs": [],
   "source": []
  },
  {
   "cell_type": "code",
   "execution_count": null,
   "id": "b13e15be-bb13-4271-bb3e-127bcf8d7479",
   "metadata": {},
   "outputs": [],
   "source": []
  },
  {
   "cell_type": "markdown",
   "id": "1145d60e-7572-4ae6-9790-52f383fd1185",
   "metadata": {},
   "source": [
    "#### 3. Load into Vector DB"
   ]
  },
  {
   "cell_type": "code",
   "execution_count": 11,
   "id": "9151c66e-64e9-431b-8d2a-b7ec34080311",
   "metadata": {},
   "outputs": [],
   "source": [
    "from pymilvus import (\n",
    "    connections,\n",
    "    utility,\n",
    "    FieldSchema,\n",
    "    CollectionSchema,\n",
    "    DataType,\n",
    "    Collection,\n",
    ")\n",
    "connections.connect(\"default\", host=\"localhost\", port=\"19530\")"
   ]
  },
  {
   "cell_type": "code",
   "execution_count": 12,
   "id": "8d2ee40a-5cf8-4b3e-b405-224a3d63dd51",
   "metadata": {},
   "outputs": [],
   "source": [
    "fields = [\n",
    "    FieldSchema(\n",
    "        name=\"id\",\n",
    "        dtype=DataType.INT64,\n",
    "        is_primary=True,\n",
    "        auto_id=False),\n",
    "    FieldSchema(\n",
    "        name=\"word\",\n",
    "        dtype=DataType.VARCHAR,\n",
    "        max_length=32,\n",
    "    ),\n",
    "    FieldSchema(\n",
    "        name=\"embeddings\",\n",
    "        dtype=DataType.FLOAT_VECTOR,\n",
    "        dim=384,\n",
    "    )\n",
    "]\n",
    "schema = CollectionSchema(fields, \"Dictionary of word embeddings\")\n",
    "dict_db = Collection(\"dict_embeddings\", schema)    "
   ]
  },
  {
   "cell_type": "code",
   "execution_count": 13,
   "id": "6df02801-34ee-4376-9f9c-3f48f4d831f8",
   "metadata": {},
   "outputs": [],
   "source": [
    "entries = [\n",
    "    [i for i in range(len(dict_words))],\n",
    "    dict_words,\n",
    "    dict_embeddings,\n",
    "]"
   ]
  },
  {
   "cell_type": "code",
   "execution_count": 98,
   "id": "d9392777-5e56-4ee6-9742-894a117232b0",
   "metadata": {},
   "outputs": [],
   "source": [
    "dict_db.insert(entries)\n",
    "dict_db.flush()"
   ]
  },
  {
   "cell_type": "code",
   "execution_count": 15,
   "id": "7f560ce3-22b7-4414-8001-e9fa27e8f77e",
   "metadata": {},
   "outputs": [
    {
     "data": {
      "text/plain": [
       "8973"
      ]
     },
     "execution_count": 15,
     "metadata": {},
     "output_type": "execute_result"
    }
   ],
   "source": [
    "dict_db.num_entities"
   ]
  },
  {
   "cell_type": "code",
   "execution_count": 100,
   "id": "84ddef7e-d5d2-4716-b48e-e65cab804e5e",
   "metadata": {},
   "outputs": [
    {
     "data": {
      "text/plain": [
       "Status(code=0, message=)"
      ]
     },
     "execution_count": 100,
     "metadata": {},
     "output_type": "execute_result"
    }
   ],
   "source": [
    "index = {\n",
    "    \"index_type\": \"IVF_FLAT\",\n",
    "    \"metric_type\": \"COSINE\",\n",
    "    \"params\": {\"nlist\": 128},\n",
    "}\n",
    "dict_db.create_index(\"embeddings\", index)"
   ]
  },
  {
   "cell_type": "code",
   "execution_count": 16,
   "id": "f0da188c-37b1-4457-bfef-782ca832529d",
   "metadata": {},
   "outputs": [],
   "source": [
    "dict_db.load()"
   ]
  },
  {
   "cell_type": "code",
   "execution_count": null,
   "id": "ad677670-630e-4145-a217-3cc0cf011f24",
   "metadata": {},
   "outputs": [],
   "source": []
  },
  {
   "cell_type": "code",
   "execution_count": 24,
   "id": "aeeb5f58-1509-409e-bfdb-19ed005664de",
   "metadata": {},
   "outputs": [],
   "source": [
    "vectors_to_search = red_embeddings\n",
    "search_params = {\n",
    "    \"metric_type\": \"COSINE\",\n",
    "    \"params\": {\"nprobe\": 10},\n",
    "}\n",
    "result = dict_db.search(vectors_to_search, \"embeddings\", search_params, limit=3, output_fields=[\"id\", \"word\"])"
   ]
  },
  {
   "cell_type": "code",
   "execution_count": 25,
   "id": "fefe08bc-887b-4626-a282-4a7b5331caf4",
   "metadata": {},
   "outputs": [
    {
     "name": "stdout",
     "output_type": "stream",
     "text": [
      "====\n",
      "id: 1308, distance: 0.6538330316543579, entity: {'id': 1308, 'word': 'animal'}\n",
      "id: 6171, distance: 0.6095772981643677, entity: {'id': 6171, 'word': 'pigs'}\n",
      "id: 6745, distance: 0.586907148361206, entity: {'id': 6745, 'word': 'rats'}\n",
      "====\n",
      "id: 3746, distance: 0.9999998807907104, entity: {'id': 3746, 'word': 'face'}\n",
      "id: 3749, distance: 0.8222840428352356, entity: {'id': 3749, 'word': 'facial'}\n",
      "id: 3748, distance: 0.81437087059021, entity: {'id': 3748, 'word': 'faces'}\n",
      "====\n",
      "id: 5285, distance: 0.9999999403953552, entity: {'id': 5285, 'word': 'march'}\n",
      "id: 673, distance: 0.705102264881134, entity: {'id': 673, 'word': 'october'}\n",
      "id: 305, distance: 0.7045801877975464, entity: {'id': 305, 'word': 'february'}\n",
      "====\n",
      "id: 4118, distance: 0.5216944813728333, entity: {'id': 4118, 'word': 'gambling'}\n",
      "id: 8878, distance: 0.464677631855011, entity: {'id': 8878, 'word': 'winning'}\n",
      "id: 2533, distance: 0.4633045196533203, entity: {'id': 2533, 'word': 'contest'}\n",
      "====\n",
      "id: 5636, distance: 1.0, entity: {'id': 5636, 'word': 'needle'}\n",
      "id: 8646, distance: 0.5322617292404175, entity: {'id': 8646, 'word': 'veins'}\n",
      "id: 6464, distance: 0.5051764249801636, entity: {'id': 6464, 'word': 'probe'}\n",
      "====\n",
      "id: 5133, distance: 1.0, entity: {'id': 5133, 'word': 'lion'}\n",
      "id: 5134, distance: 0.8121451139450073, entity: {'id': 5134, 'word': 'lions'}\n",
      "id: 1308, distance: 0.5753294229507446, entity: {'id': 1308, 'word': 'animal'}\n",
      "====\n",
      "id: 5024, distance: 1.0000001192092896, entity: {'id': 5024, 'word': 'lead'}\n",
      "id: 5029, distance: 0.8719891905784607, entity: {'id': 5029, 'word': 'leads'}\n",
      "id: 5028, distance: 0.7547428607940674, entity: {'id': 5028, 'word': 'leading'}\n",
      "====\n",
      "id: 3912, distance: 1.0, entity: {'id': 3912, 'word': 'fire'}\n",
      "id: 3915, distance: 0.8989298343658447, entity: {'id': 3915, 'word': 'fires'}\n",
      "id: 3936, distance: 0.7998241782188416, entity: {'id': 3936, 'word': 'flame'}\n",
      "====\n",
      "id: 2797, distance: 1.0, entity: {'id': 2797, 'word': 'day'}\n",
      "id: 2798, distance: 0.7668911218643188, entity: {'id': 2798, 'word': 'day-to-day'}\n",
      "id: 2800, distance: 0.7591347694396973, entity: {'id': 2800, 'word': 'days'}\n"
     ]
    }
   ],
   "source": [
    "for hits in result:\n",
    "    print(\"====\")\n",
    "    for hit in hits:\n",
    "        print (hit.entity)"
   ]
  },
  {
   "cell_type": "markdown",
   "id": "304745de-4c5c-4d29-81e2-f275b4a92990",
   "metadata": {},
   "source": [
    "### Game Setup: "
   ]
  },
  {
   "cell_type": "markdown",
   "id": "613e0ef3-1c36-4dc2-933a-d7b463e88ad0",
   "metadata": {},
   "source": [
    "#### Randomly select 25 words from the word pool and randomly assign them as red (9), blue (8), grey (7), and black (1)"
   ]
  },
  {
   "cell_type": "code",
   "execution_count": 82,
   "id": "13b22e47-61ef-4309-94fb-b5531a161ba5",
   "metadata": {},
   "outputs": [],
   "source": [
    "with open('game_wordpool.txt') as f:\n",
    "    game_words = f.read().splitlines()\n",
    "\n",
    "import random\n",
    "\n",
    "words = random.sample(game_words, k=25)\n",
    "\n",
    "red_words = words[0:9]\n",
    "blue_words = words[9:17]\n",
    "grey_words = words[17:24]\n",
    "black_words = words[24:]"
   ]
  },
  {
   "cell_type": "markdown",
   "id": "5b4ceb8a-1c36-4089-bdfd-82ac5ecb97ae",
   "metadata": {},
   "source": [
    "#### Compute word embeddings for each word on the board"
   ]
  },
  {
   "cell_type": "code",
   "execution_count": 35,
   "id": "531874b6-2a79-4339-96d9-8be8a5236b00",
   "metadata": {},
   "outputs": [],
   "source": [
    "red_embeddings = list(map(lambda x: model.encode(x), red_words))"
   ]
  },
  {
   "cell_type": "code",
   "execution_count": 36,
   "id": "7b029a1e-4c7c-44d2-bb4b-878eb9f2a82b",
   "metadata": {},
   "outputs": [],
   "source": [
    "blue_embeddings = list(map(lambda x: model.encode(x), blue_words))"
   ]
  },
  {
   "cell_type": "code",
   "execution_count": 37,
   "id": "ea4bf181-004b-4659-8c47-f17f6502f383",
   "metadata": {},
   "outputs": [],
   "source": [
    "grey_embeddings = list(map(lambda x: model.encode(x), grey_words))"
   ]
  },
  {
   "cell_type": "code",
   "execution_count": 38,
   "id": "254348cb-317c-4d0b-80ff-6b8917a7b6b6",
   "metadata": {},
   "outputs": [],
   "source": [
    "black_embeddings = list(map(lambda x: model.encode(x), black_words))"
   ]
  },
  {
   "cell_type": "markdown",
   "id": "92b6dbc1-b18c-4f5b-8ec9-8022df5c6eaf",
   "metadata": {},
   "source": [
    "### Generating Clues"
   ]
  },
  {
   "cell_type": "code",
   "execution_count": 71,
   "id": "4fde16e7-7433-4f8e-a2bf-4f2b708ef6ab",
   "metadata": {},
   "outputs": [],
   "source": [
    "from sklearn.cluster import AgglomerativeClustering\n",
    "\n",
    "red_clusters = AgglomerativeClustering(n_clusters=None, metric=\"cosine\", linkage=\"complete\", distance_threshold=0.8).fit_predict(red_embeddings)\n"
   ]
  },
  {
   "cell_type": "code",
   "execution_count": 75,
   "id": "f4089b57-b492-4fea-a209-aa672b95fa77",
   "metadata": {},
   "outputs": [
    {
     "data": {
      "text/plain": [
       "[2, 2, 1, 0, 2, 0, 2, 0, 1]"
      ]
     },
     "execution_count": 75,
     "metadata": {},
     "output_type": "execute_result"
    }
   ],
   "source": [
    "red_clusters.tolist()"
   ]
  },
  {
   "cell_type": "code",
   "execution_count": 73,
   "id": "f123f4cc-83df-4fee-8911-024bd67c7807",
   "metadata": {},
   "outputs": [
    {
     "data": {
      "text/plain": [
       "['HEAD', 'COPPER', 'WAVE', 'CRANE', 'ORGAN', 'EGYPT', 'KEY', 'WAKE', 'CONCERT']"
      ]
     },
     "execution_count": 73,
     "metadata": {},
     "output_type": "execute_result"
    }
   ],
   "source": [
    "red_words"
   ]
  },
  {
   "cell_type": "code",
   "execution_count": 78,
   "id": "e679b0f7-7dd6-4890-b415-38fb043e71a1",
   "metadata": {},
   "outputs": [],
   "source": [
    "zipped = zip(red_clusters.tolist(), red_words)"
   ]
  },
  {
   "cell_type": "code",
   "execution_count": 81,
   "id": "d9250cb0-df21-4853-8a75-f147749962ac",
   "metadata": {},
   "outputs": [
    {
     "data": {
      "text/plain": [
       "(2, 'HEAD')"
      ]
     },
     "execution_count": 81,
     "metadata": {},
     "output_type": "execute_result"
    }
   ],
   "source": [
    "list(zipped)[0]"
   ]
  },
  {
   "cell_type": "code",
   "execution_count": null,
   "id": "d44d7a56-6726-472b-b24f-f1ccee4c1b8d",
   "metadata": {},
   "outputs": [],
   "source": []
  }
 ],
 "metadata": {
  "kernelspec": {
   "display_name": "Python 3 (ipykernel)",
   "language": "python",
   "name": "python3"
  },
  "language_info": {
   "codemirror_mode": {
    "name": "ipython",
    "version": 3
   },
   "file_extension": ".py",
   "mimetype": "text/x-python",
   "name": "python",
   "nbconvert_exporter": "python",
   "pygments_lexer": "ipython3",
   "version": "3.11.6"
  }
 },
 "nbformat": 4,
 "nbformat_minor": 5
}
