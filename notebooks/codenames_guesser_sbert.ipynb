{
 "cells": [
  {
   "cell_type": "code",
   "execution_count": 176,
   "id": "ff81f27b-6daf-4eee-9ace-0038cbbeabb0",
   "metadata": {},
   "outputs": [],
   "source": [
    "with open('words/game_wordpool.txt') as f:\n",
    "    word_pool = f.read().splitlines()\n",
    "\n",
    "import random\n",
    "\n",
    "board_words = random.sample(word_pool, k=25)"
   ]
  },
  {
   "cell_type": "code",
   "execution_count": 158,
   "id": "3f7bf382-cfdc-45d5-8576-712118eb3b7f",
   "metadata": {},
   "outputs": [],
   "source": [
    "board_words = [\n",
    "    'RIVER',\n",
    "    'DEPOSIT',\n",
    "    'PARACHUTE',\n",
    "    'BUFFALO',\n",
    "    'STRING',\n",
    "    'MISSILE',\n",
    "    'LUCK',\n",
    "    'PORT',\n",
    "    'CENTER',\n",
    "    'GAS',\n",
    "    'GOLD',\n",
    "    'NUT',\n",
    "    'PAPER',\n",
    "    'BOX',\n",
    "    'SPOT',\n",
    "    'SCALE',\n",
    "    'CONCERT',\n",
    "    'BERMUDA',\n",
    "    'INDIA',\n",
    "    'SLUG',\n",
    "    'ROULETTE',\n",
    "    'MEXICO',\n",
    "    'POST',\n",
    "    'CAR',\n",
    "    'KID'\n",
    "]"
   ]
  },
  {
   "cell_type": "code",
   "execution_count": 177,
   "id": "c10173b6-0bc6-4ba3-a06b-086d9d6863ab",
   "metadata": {},
   "outputs": [],
   "source": [
    "from sentence_transformers import SentenceTransformer, util\n",
    "\n",
    "model = SentenceTransformer('all-MiniLM-L12-v2')"
   ]
  },
  {
   "cell_type": "code",
   "execution_count": 178,
   "id": "ce74b768-82c1-4d45-8abe-ed737d9ba0d8",
   "metadata": {},
   "outputs": [],
   "source": [
    "board_words_embeddings = list(map(lambda x: model.encode(x), board_words))"
   ]
  },
  {
   "cell_type": "code",
   "execution_count": 179,
   "id": "44eec4b0-ea15-4713-a928-e363e1e83b3f",
   "metadata": {},
   "outputs": [],
   "source": [
    "from pymilvus import (\n",
    "    connections,\n",
    "    utility,\n",
    "    FieldSchema,\n",
    "    CollectionSchema,\n",
    "    DataType,\n",
    "    Collection,\n",
    ")\n",
    "connections.connect(\"default\", host=\"localhost\", port=\"19530\")"
   ]
  },
  {
   "cell_type": "code",
   "execution_count": 180,
   "id": "faae60c2-4003-474a-b9ee-62486e6236a9",
   "metadata": {},
   "outputs": [],
   "source": [
    "fields = [\n",
    "    FieldSchema(\n",
    "        name=\"id\",\n",
    "        dtype=DataType.INT64,\n",
    "        is_primary=True,\n",
    "        auto_id=False),\n",
    "    FieldSchema(\n",
    "        name=\"word\",\n",
    "        dtype=DataType.VARCHAR,\n",
    "        max_length=32,\n",
    "    ),\n",
    "    FieldSchema(\n",
    "        name=\"embeddings\",\n",
    "        dtype=DataType.FLOAT_VECTOR,\n",
    "        dim=384,\n",
    "    )\n",
    "]\n",
    "schema = CollectionSchema(fields, \"Embeddings of the Codenames word pool\")\n",
    "board_db = Collection(\"sbert_board_embeddings\", schema)    "
   ]
  },
  {
   "cell_type": "code",
   "execution_count": null,
   "id": "ee340c57-25d2-4635-9cfa-6f611e93bb81",
   "metadata": {},
   "outputs": [],
   "source": []
  },
  {
   "cell_type": "code",
   "execution_count": 181,
   "id": "2ca32ee9-f75b-44bd-a3de-089d7d1c835a",
   "metadata": {},
   "outputs": [],
   "source": [
    "entries = [\n",
    "    [i for i in range(len(board_words))],\n",
    "    board_words,\n",
    "    board_words_embeddings,\n",
    "]"
   ]
  },
  {
   "cell_type": "code",
   "execution_count": 182,
   "id": "3511c6af-1ff5-45bb-8f0a-fba137f4bf6a",
   "metadata": {},
   "outputs": [],
   "source": [
    "board_db.delete(\"id > -1\")\n",
    "board_db.flush()"
   ]
  },
  {
   "cell_type": "code",
   "execution_count": 183,
   "id": "09756e11-5548-44ef-8718-dbb632eaf111",
   "metadata": {},
   "outputs": [],
   "source": [
    "board_db.insert(entries)\n",
    "board_db.flush()  "
   ]
  },
  {
   "cell_type": "code",
   "execution_count": 184,
   "id": "bbabb9f8-9ad5-4132-8177-8ad13fce411b",
   "metadata": {},
   "outputs": [
    {
     "data": {
      "text/plain": [
       "50"
      ]
     },
     "execution_count": 184,
     "metadata": {},
     "output_type": "execute_result"
    }
   ],
   "source": [
    "board_db.num_entities"
   ]
  },
  {
   "cell_type": "code",
   "execution_count": 185,
   "id": "07bd2b55-98fa-4491-9e0c-63eeea528cf7",
   "metadata": {},
   "outputs": [
    {
     "data": {
      "text/plain": [
       "Status(code=0, message=)"
      ]
     },
     "execution_count": 185,
     "metadata": {},
     "output_type": "execute_result"
    }
   ],
   "source": [
    "index = {\n",
    "    \"index_type\": \"IVF_FLAT\",\n",
    "    \"metric_type\": \"COSINE\",\n",
    "    \"params\": {\"nlist\": 128},\n",
    "}\n",
    "board_db.create_index(\"embeddings\", index)"
   ]
  },
  {
   "cell_type": "code",
   "execution_count": 186,
   "id": "8a37cd36-3c96-4c96-beaa-0c7a6ad1c35f",
   "metadata": {},
   "outputs": [],
   "source": [
    "board_db.load()"
   ]
  },
  {
   "cell_type": "code",
   "execution_count": 187,
   "id": "a09a6132-b7f1-4895-9027-e8937b896976",
   "metadata": {},
   "outputs": [
    {
     "data": {
      "text/plain": [
       "['SCHOOL',\n",
       " 'FLUTE',\n",
       " 'FOOT',\n",
       " 'TAIL',\n",
       " 'DATE',\n",
       " 'MOSCOW',\n",
       " 'CYCLE',\n",
       " 'KETCHUP',\n",
       " 'POLE',\n",
       " 'FALL',\n",
       " 'BOX',\n",
       " 'KID',\n",
       " 'TRAIN',\n",
       " 'MERCURY',\n",
       " 'AFRICA',\n",
       " 'ATLANTIS',\n",
       " 'POINT',\n",
       " 'GREEN',\n",
       " 'BERMUDA',\n",
       " 'TIE',\n",
       " 'FLY',\n",
       " 'SMUGGLER',\n",
       " 'CHEST',\n",
       " 'HOOD',\n",
       " 'EGYPT']"
      ]
     },
     "execution_count": 187,
     "metadata": {},
     "output_type": "execute_result"
    }
   ],
   "source": [
    "board_words"
   ]
  },
  {
   "cell_type": "code",
   "execution_count": 197,
   "id": "8c23f728-42eb-46e4-bdd7-cc25fb34822b",
   "metadata": {},
   "outputs": [],
   "source": [
    "clue = \"poland\"\n",
    "\n",
    "clue_embedding = model.encode(clue)"
   ]
  },
  {
   "cell_type": "code",
   "execution_count": 198,
   "id": "e6da417a-5511-4764-bf2a-28ce52c3b43c",
   "metadata": {},
   "outputs": [],
   "source": [
    "vectors_to_search = [clue_embedding]\n",
    "search_params = {\n",
    "    \"metric_type\": \"COSINE\",\n",
    "    \"params\": {\"nprobe\": 10},\n",
    "}\n",
    "result = board_db.search(vectors_to_search, \"embeddings\", search_params, limit=5, output_fields=[\"id\", \"word\"])"
   ]
  },
  {
   "cell_type": "code",
   "execution_count": 199,
   "id": "b29320fe-2407-4eb7-843c-8ca182146ef7",
   "metadata": {},
   "outputs": [
    {
     "name": "stdout",
     "output_type": "stream",
     "text": [
      "====\n",
      "id: 14, distance: 0.5735673904418945, entity: {'id': 14, 'word': 'AFRICA'}\n",
      "id: 5, distance: 0.5577887296676636, entity: {'id': 5, 'word': 'MOSCOW'}\n",
      "id: 24, distance: 0.5297727584838867, entity: {'id': 24, 'word': 'EGYPT'}\n",
      "id: 8, distance: 0.40159177780151367, entity: {'id': 8, 'word': 'POLE'}\n",
      "id: 23, distance: 0.3251984119415283, entity: {'id': 23, 'word': 'HOOD'}\n"
     ]
    }
   ],
   "source": [
    "for hits in result:\n",
    "    print(\"====\")\n",
    "    for hit in hits:\n",
    "        print (hit.entity)"
   ]
  },
  {
   "cell_type": "code",
   "execution_count": null,
   "id": "b99ffcdd-f066-4168-9d27-e65f7aee5f9d",
   "metadata": {},
   "outputs": [],
   "source": []
  }
 ],
 "metadata": {
  "kernelspec": {
   "display_name": "Python 3 (ipykernel)",
   "language": "python",
   "name": "python3"
  },
  "language_info": {
   "codemirror_mode": {
    "name": "ipython",
    "version": 3
   },
   "file_extension": ".py",
   "mimetype": "text/x-python",
   "name": "python",
   "nbconvert_exporter": "python",
   "pygments_lexer": "ipython3",
   "version": "3.11.6"
  }
 },
 "nbformat": 4,
 "nbformat_minor": 5
}
