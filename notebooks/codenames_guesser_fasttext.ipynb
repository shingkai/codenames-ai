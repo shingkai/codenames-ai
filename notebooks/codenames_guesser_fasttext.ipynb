{
 "cells": [
  {
   "cell_type": "code",
   "execution_count": 18,
   "id": "5b59163e-a00d-4b24-842d-1c08634fd310",
   "metadata": {},
   "outputs": [],
   "source": [
    "with open('words/game_wordpool.txt') as f:\n",
    "    word_pool = f.read().splitlines()\n",
    "\n",
    "import random\n",
    "\n",
    "board_words = random.sample(word_pool, k=25)"
   ]
  },
  {
   "cell_type": "code",
   "execution_count": 19,
   "id": "d0cef49c-df37-4426-bb96-339018205948",
   "metadata": {},
   "outputs": [
    {
     "data": {
      "text/plain": [
       "['GLOVE',\n",
       " 'CHOCOLATE',\n",
       " 'STICK',\n",
       " 'POINT',\n",
       " 'PRESS',\n",
       " 'THUMB',\n",
       " 'LAB',\n",
       " 'SWING',\n",
       " 'LIMOUSINE',\n",
       " 'FAIR',\n",
       " 'DINOSAUR',\n",
       " 'SHOT',\n",
       " 'LEAD',\n",
       " 'CANADA',\n",
       " 'WALL',\n",
       " 'MUG',\n",
       " 'BILL',\n",
       " 'FISH',\n",
       " 'CRANE',\n",
       " 'HOOK',\n",
       " 'HORSESHOE',\n",
       " 'PILOT',\n",
       " 'GIANT',\n",
       " 'HOOD',\n",
       " 'BACK']"
      ]
     },
     "execution_count": 19,
     "metadata": {},
     "output_type": "execute_result"
    }
   ],
   "source": [
    "board_words"
   ]
  },
  {
   "cell_type": "code",
   "execution_count": 20,
   "id": "c6d69bfb-c453-44e8-91e7-c9984a8fd7d3",
   "metadata": {},
   "outputs": [],
   "source": [
    "board_words = list(map(lambda x : x.lower(), board_words))"
   ]
  },
  {
   "cell_type": "code",
   "execution_count": 21,
   "id": "35147c01-ef7a-42ed-8588-4b7975720854",
   "metadata": {},
   "outputs": [
    {
     "name": "stdout",
     "output_type": "stream",
     "text": [
      "['glove', 'chocolate', 'stick', 'point', 'press', 'thumb', 'lab', 'swing', 'limousine']\n",
      "['fair', 'dinosaur', 'shot', 'lead', 'canada', 'wall', 'mug', 'bill']\n",
      "['fish', 'crane', 'hook', 'horseshoe', 'pilot', 'giant', 'hood']\n",
      "['back']\n"
     ]
    }
   ],
   "source": [
    "print(board_words[0:9])\n",
    "print(board_words[9:17])\n",
    "print(board_words[17:24])\n",
    "print(board_words[24:])"
   ]
  },
  {
   "cell_type": "code",
   "execution_count": null,
   "id": "a1e50297-b5cf-419d-abb6-e6dcf5a4e789",
   "metadata": {},
   "outputs": [],
   "source": []
  },
  {
   "cell_type": "code",
   "execution_count": 2,
   "id": "d66f71e6-f3d6-4f42-8588-0605fbf3aa30",
   "metadata": {},
   "outputs": [],
   "source": [
    "import gensim.downloader as gensim\n",
    "fasttext = gensim.load(\"fasttext-wiki-news-subwords-300\")"
   ]
  },
  {
   "cell_type": "code",
   "execution_count": 22,
   "id": "1217f1b4-ab32-47ef-aa0e-9eb1f2fd712b",
   "metadata": {},
   "outputs": [
    {
     "data": {
      "text/plain": [
       "[('forefinger', 0.4251425266265869),\n",
       " ('finger', 0.40358465909957886),\n",
       " ('fingers', 0.3948974013328552),\n",
       " ('joystick', 0.3865697979927063),\n",
       " ('thumbwheel', 0.37440046668052673),\n",
       " ('two-finger', 0.3653956353664398),\n",
       " ('thumbstick', 0.36416009068489075),\n",
       " ('fingerstick', 0.3620564341545105),\n",
       " ('finger-stick', 0.36104273796081543),\n",
       " ('knuckle', 0.3593359887599945)]"
      ]
     },
     "execution_count": 22,
     "metadata": {},
     "output_type": "execute_result"
    }
   ],
   "source": [
    "fasttext.most_similar(positive=board_words[0:9], negative=board_words[9:17])"
   ]
  },
  {
   "cell_type": "code",
   "execution_count": 23,
   "id": "f396e302-12e7-4da8-9b7a-bac5c19b0c92",
   "metadata": {},
   "outputs": [],
   "source": [
    "clue = \"finger\""
   ]
  },
  {
   "cell_type": "code",
   "execution_count": 24,
   "id": "1727c543-f6c1-41f9-9567-358fb0fb1205",
   "metadata": {},
   "outputs": [
    {
     "data": {
      "text/plain": [
       "'thumb'"
      ]
     },
     "execution_count": 24,
     "metadata": {},
     "output_type": "execute_result"
    }
   ],
   "source": [
    "fasttext.most_similar_to_given(clue, board_words)"
   ]
  },
  {
   "cell_type": "code",
   "execution_count": 27,
   "id": "546b465d-234a-45b0-9472-b1c7957f919c",
   "metadata": {},
   "outputs": [
    {
     "data": {
      "text/plain": [
       "'glove'"
      ]
     },
     "execution_count": 27,
     "metadata": {},
     "output_type": "execute_result"
    }
   ],
   "source": [
    "fasttext.most_similar_to_given(clue, board_words)"
   ]
  },
  {
   "cell_type": "code",
   "execution_count": 29,
   "id": "af4db215-8046-4198-ae54-a115ac7ec7a9",
   "metadata": {},
   "outputs": [
    {
     "data": {
      "text/plain": [
       "'stick'"
      ]
     },
     "execution_count": 29,
     "metadata": {},
     "output_type": "execute_result"
    }
   ],
   "source": [
    "board_words.remove(\"glove\")\n",
    "fasttext.most_similar_to_given(clue, board_words)"
   ]
  },
  {
   "cell_type": "code",
   "execution_count": 31,
   "id": "b70fb98b-88dc-4cdf-b60b-f6122c606fd8",
   "metadata": {},
   "outputs": [
    {
     "data": {
      "text/plain": [
       "'back'"
      ]
     },
     "execution_count": 31,
     "metadata": {},
     "output_type": "execute_result"
    }
   ],
   "source": [
    "board_words.remove(\"stick\")\n",
    "fasttext.most_similar_to_given(clue, board_words)"
   ]
  },
  {
   "cell_type": "code",
   "execution_count": 32,
   "id": "fd43de08-89c7-4057-b32c-d9d09447423c",
   "metadata": {},
   "outputs": [
    {
     "ename": "ValueError",
     "evalue": "list.remove(x): x not in list",
     "output_type": "error",
     "traceback": [
      "\u001b[0;31m---------------------------------------------------------------------------\u001b[0m",
      "\u001b[0;31mValueError\u001b[0m                                Traceback (most recent call last)",
      "Cell \u001b[0;32mIn[32], line 1\u001b[0m\n\u001b[0;32m----> 1\u001b[0m \u001b[43mboard_words\u001b[49m\u001b[38;5;241;43m.\u001b[39;49m\u001b[43mremove\u001b[49m\u001b[43m(\u001b[49m\u001b[38;5;124;43m\"\u001b[39;49m\u001b[38;5;124;43mpoint\u001b[39;49m\u001b[38;5;124;43m\"\u001b[39;49m\u001b[43m)\u001b[49m\n\u001b[1;32m      2\u001b[0m fasttext\u001b[38;5;241m.\u001b[39mmost_similar_to_given(clue, board_words)\n",
      "\u001b[0;31mValueError\u001b[0m: list.remove(x): x not in list"
     ]
    }
   ],
   "source": [
    "board_words.remove(\"point\")\n",
    "fasttext.most_similar_to_given(clue, board_words)"
   ]
  },
  {
   "cell_type": "code",
   "execution_count": null,
   "id": "6d05a0ec-ff4f-4768-9394-3d7b0ad92990",
   "metadata": {},
   "outputs": [],
   "source": [
    "board_words.remove(\"back\")\n",
    "fasttext.most_similar_to_given(clue, board_words)"
   ]
  },
  {
   "cell_type": "code",
   "execution_count": null,
   "id": "f8e4cf26-6af5-4e2e-a4c8-49a80083b8eb",
   "metadata": {},
   "outputs": [],
   "source": []
  },
  {
   "cell_type": "code",
   "execution_count": null,
   "id": "48c29cad-ba04-4784-a58b-b0ae9c5b0d1f",
   "metadata": {},
   "outputs": [],
   "source": []
  },
  {
   "cell_type": "code",
   "execution_count": null,
   "id": "ed86e914-f09a-420a-a831-c50d7440c319",
   "metadata": {},
   "outputs": [],
   "source": []
  },
  {
   "cell_type": "code",
   "execution_count": 10,
   "id": "2d43f269-efc6-4fb5-b569-7d5858f48a4b",
   "metadata": {},
   "outputs": [],
   "source": [
    "import io\n",
    "\n",
    "file = io.open('models/fasttext-wiki-news-300d-1M.vec', 'r', encoding='utf-8', newline='\\n', errors='ignore')\n",
    "n, d = map(int, file.readline().split())\n",
    "data = {}\n",
    "for line in file:\n",
    "    tokens = line.rstrip().split(' ')\n",
    "    data[tokens[0]] = list(map(float, tokens[1:]))"
   ]
  },
  {
   "cell_type": "code",
   "execution_count": 17,
   "id": "d8889f0c-c197-4799-a80f-cae3097c8d47",
   "metadata": {},
   "outputs": [],
   "source": [
    "board_words_embeddings = list(map(lambda x : data.get(x), board_words))"
   ]
  },
  {
   "cell_type": "code",
   "execution_count": 19,
   "id": "c06f8da9-1a5c-457a-99cd-396b6a8521ca",
   "metadata": {},
   "outputs": [
    {
     "data": {
      "text/plain": [
       "25"
      ]
     },
     "execution_count": 19,
     "metadata": {},
     "output_type": "execute_result"
    }
   ],
   "source": [
    "len(board_words_embeddings)"
   ]
  },
  {
   "cell_type": "code",
   "execution_count": null,
   "id": "98a2eecb-712b-4ade-bc36-44e3403b84dd",
   "metadata": {},
   "outputs": [],
   "source": []
  },
  {
   "cell_type": "code",
   "execution_count": null,
   "id": "a4b0a6e8-2723-4277-8673-8e1e568e409b",
   "metadata": {},
   "outputs": [],
   "source": []
  },
  {
   "cell_type": "code",
   "execution_count": 30,
   "id": "d82368e7-050a-4c86-bd0d-63c1697a4eb0",
   "metadata": {},
   "outputs": [],
   "source": [
    "from pymilvus import (\n",
    "    connections,\n",
    "    utility,\n",
    "    FieldSchema,\n",
    "    CollectionSchema,\n",
    "    DataType,\n",
    "    Collection,\n",
    ")\n",
    "connections.connect(\"default\", host=\"localhost\", port=\"19530\")"
   ]
  },
  {
   "cell_type": "code",
   "execution_count": 69,
   "id": "f484acab-e5eb-47fa-9968-ce5e02f54dc1",
   "metadata": {},
   "outputs": [],
   "source": [
    "utility.drop_collection(\"fasttext_board_embeddings\")"
   ]
  },
  {
   "cell_type": "code",
   "execution_count": 70,
   "id": "fae306d5-9c83-4219-b51d-a62bfadb7727",
   "metadata": {},
   "outputs": [],
   "source": [
    "fields = [\n",
    "    FieldSchema(\n",
    "        name=\"id\",\n",
    "        dtype=DataType.INT64,\n",
    "        is_primary=True,\n",
    "        auto_id=False),\n",
    "    FieldSchema(\n",
    "        name=\"word\",\n",
    "        dtype=DataType.VARCHAR,\n",
    "        max_length=32,\n",
    "    ),\n",
    "    FieldSchema(\n",
    "        name=\"embeddings\",\n",
    "        dtype=DataType.FLOAT_VECTOR,\n",
    "        dim=300,\n",
    "    )\n",
    "]\n",
    "schema = CollectionSchema(fields, \"Embeddings of the Codenames word pool\")\n",
    "board_db = Collection(\"fasttext_board_embeddings\", schema)    "
   ]
  },
  {
   "cell_type": "code",
   "execution_count": 71,
   "id": "c5e557f1-7106-46fe-bd44-b53b7a98a259",
   "metadata": {},
   "outputs": [],
   "source": [
    "entries = [\n",
    "    [i for i in range(len(board_words))],\n",
    "    board_words,\n",
    "    board_words_embeddings,\n",
    "]"
   ]
  },
  {
   "cell_type": "code",
   "execution_count": 72,
   "id": "800c580e-f319-4b09-9412-9cc2d99220a1",
   "metadata": {},
   "outputs": [],
   "source": [
    "board_db.insert(entries)\n",
    "board_db.flush()  "
   ]
  },
  {
   "cell_type": "code",
   "execution_count": 73,
   "id": "1d5849aa-2b75-466b-9a17-adafcb5a9dce",
   "metadata": {},
   "outputs": [
    {
     "data": {
      "text/plain": [
       "25"
      ]
     },
     "execution_count": 73,
     "metadata": {},
     "output_type": "execute_result"
    }
   ],
   "source": [
    "board_db.num_entities"
   ]
  },
  {
   "cell_type": "code",
   "execution_count": 74,
   "id": "175b0efc-dcaf-4804-a6e7-2ef8aee45443",
   "metadata": {},
   "outputs": [],
   "source": [
    "index = {\n",
    "    \"index_type\": \"IVF_FLAT\",\n",
    "    \"metric_type\": \"COSINE\",\n",
    "    \"params\": {\"nlist\": 128},\n",
    "}\n",
    "board_db.create_index(\"embeddings\", index)\n",
    "board_db.load()"
   ]
  },
  {
   "cell_type": "code",
   "execution_count": 78,
   "id": "896177f4-7286-488b-bbf9-85a1eb612179",
   "metadata": {},
   "outputs": [],
   "source": [
    "clue = \"COPY\"\n",
    "\n",
    "clue_embedding = data.get(clue)"
   ]
  },
  {
   "cell_type": "code",
   "execution_count": 79,
   "id": "5828e818-59b2-43b0-9628-c7c11aca1bd9",
   "metadata": {},
   "outputs": [],
   "source": [
    "vectors_to_search = [clue_embedding]\n",
    "search_params = {\n",
    "    \"metric_type\": \"COSINE\",\n",
    "    \"params\": {\"nprobe\": 10},\n",
    "}\n",
    "result = board_db.search(vectors_to_search, \"embeddings\", search_params, limit=5, output_fields=[\"word\"])"
   ]
  },
  {
   "cell_type": "code",
   "execution_count": 80,
   "id": "05ecdd3d-855b-410d-9a95-484882f0922f",
   "metadata": {},
   "outputs": [
    {
     "name": "stdout",
     "output_type": "stream",
     "text": [
      "====\n",
      "id: 1, distance: 0.2861783504486084, entity: {'word': 'TIME'}\n",
      "id: 4, distance: 0.26706433296203613, entity: {'word': 'STRING'}\n",
      "id: 10, distance: 0.26237812638282776, entity: {'word': 'GOLD'}\n",
      "id: 9, distance: 0.24220968782901764, entity: {'word': 'GAS'}\n",
      "id: 5, distance: 0.23788677155971527, entity: {'word': 'MISSILE'}\n"
     ]
    }
   ],
   "source": [
    "for hits in result:\n",
    "    print(\"====\")\n",
    "    for hit in hits:\n",
    "        print (hit.entity)"
   ]
  },
  {
   "cell_type": "code",
   "execution_count": null,
   "id": "cb14191b-3196-45cd-ab2d-bbbd1fcca810",
   "metadata": {},
   "outputs": [],
   "source": []
  },
  {
   "cell_type": "code",
   "execution_count": null,
   "id": "fc4b43cb-db87-4f73-8c20-d1baf58625ac",
   "metadata": {},
   "outputs": [],
   "source": []
  }
 ],
 "metadata": {
  "kernelspec": {
   "display_name": "Python 3 (ipykernel)",
   "language": "python",
   "name": "python3"
  },
  "language_info": {
   "codemirror_mode": {
    "name": "ipython",
    "version": 3
   },
   "file_extension": ".py",
   "mimetype": "text/x-python",
   "name": "python",
   "nbconvert_exporter": "python",
   "pygments_lexer": "ipython3",
   "version": "3.11.6"
  }
 },
 "nbformat": 4,
 "nbformat_minor": 5
}
