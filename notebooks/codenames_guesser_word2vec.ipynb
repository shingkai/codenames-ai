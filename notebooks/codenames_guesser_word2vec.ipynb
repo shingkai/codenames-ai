{
 "cells": [
  {
   "cell_type": "code",
   "execution_count": 1,
   "id": "5b59163e-a00d-4b24-842d-1c08634fd310",
   "metadata": {},
   "outputs": [],
   "source": [
    "with open('words/game_wordpool.txt') as f:\n",
    "    word_pool = f.read().splitlines()\n",
    "\n",
    "import random\n",
    "\n",
    "board_words = random.sample(word_pool, k=25)"
   ]
  },
  {
   "cell_type": "code",
   "execution_count": 13,
   "id": "d0cef49c-df37-4426-bb96-339018205948",
   "metadata": {},
   "outputs": [
    {
     "data": {
      "text/plain": [
       "['BAR',\n",
       " 'CHURCH',\n",
       " 'BUG',\n",
       " 'DOCTOR',\n",
       " 'SPRING',\n",
       " 'POST',\n",
       " 'TORCH',\n",
       " 'COMPOUND',\n",
       " 'GLASS',\n",
       " 'PALM',\n",
       " 'CHAIR',\n",
       " 'TIE',\n",
       " 'SHARK',\n",
       " 'BRIDGE',\n",
       " 'DISEASE',\n",
       " 'CLIFF',\n",
       " 'CZECH',\n",
       " 'SHADOW',\n",
       " 'OCTOPUS',\n",
       " 'BAND',\n",
       " 'TRAIN',\n",
       " 'DICE',\n",
       " 'STREAM',\n",
       " 'STRAW',\n",
       " 'WORM']"
      ]
     },
     "execution_count": 13,
     "metadata": {},
     "output_type": "execute_result"
    }
   ],
   "source": [
    "board_words"
   ]
  },
  {
   "cell_type": "code",
   "execution_count": 14,
   "id": "f68b5c14-fcdd-4494-a1d7-49e37c9a2560",
   "metadata": {},
   "outputs": [],
   "source": [
    "board_words = list(map(lambda x : x.lower(), board_words))"
   ]
  },
  {
   "cell_type": "code",
   "execution_count": null,
   "id": "1c7b572a-3d35-4b31-8f0e-b8d33a4bc71e",
   "metadata": {},
   "outputs": [],
   "source": []
  },
  {
   "cell_type": "code",
   "execution_count": 15,
   "id": "35147c01-ef7a-42ed-8588-4b7975720854",
   "metadata": {},
   "outputs": [
    {
     "name": "stdout",
     "output_type": "stream",
     "text": [
      "['bar', 'church', 'bug', 'doctor', 'spring', 'post', 'torch', 'compound', 'glass']\n",
      "['palm', 'chair', 'tie', 'shark', 'bridge', 'disease', 'cliff', 'czech']\n",
      "['shadow', 'octopus', 'band', 'train', 'dice', 'stream', 'straw']\n",
      "['worm']\n"
     ]
    }
   ],
   "source": [
    "print(board_words[0:9])\n",
    "print(board_words[9:17])\n",
    "print(board_words[17:24])\n",
    "print(board_words[24:])"
   ]
  },
  {
   "cell_type": "code",
   "execution_count": null,
   "id": "fa621e59-1ee2-4747-8dd7-58b6fe75f8a1",
   "metadata": {},
   "outputs": [],
   "source": []
  },
  {
   "cell_type": "code",
   "execution_count": null,
   "id": "a1e50297-b5cf-419d-abb6-e6dcf5a4e789",
   "metadata": {},
   "outputs": [],
   "source": []
  },
  {
   "cell_type": "code",
   "execution_count": 7,
   "id": "2d43f269-efc6-4fb5-b569-7d5858f48a4b",
   "metadata": {},
   "outputs": [],
   "source": [
    "import gensim.downloader as gensim\n",
    "word2vec = gensim.load(\"word2vec-google-news-300\")\n"
   ]
  },
  {
   "cell_type": "code",
   "execution_count": 16,
   "id": "92f74ac7-c9ab-4e27-bcaa-3d426140ffcc",
   "metadata": {},
   "outputs": [
    {
     "data": {
      "text/plain": [
       "[('Jayhawker_Towers', 0.32939642667770386),\n",
       " ('Camp_Tontozona', 0.3205326497554779),\n",
       " ('Ubben_Basketball_Complex', 0.3157985508441925),\n",
       " ('firecrackers_BBs', 0.30775976181030273),\n",
       " ('6News_Julie_Pursley', 0.3060329854488373),\n",
       " ('pizza_parlor', 0.3048863410949707),\n",
       " ('malfunctioning_air_conditioner', 0.30258217453956604),\n",
       " ('rectory', 0.30048373341560364),\n",
       " ('termite_extermination', 0.29974260926246643),\n",
       " ('empty_milk_cartons', 0.2994721233844757)]"
      ]
     },
     "execution_count": 16,
     "metadata": {},
     "output_type": "execute_result"
    }
   ],
   "source": [
    "word2vec.most_similar(positive=board_words[0:9], negative=board_words[9:17])"
   ]
  },
  {
   "cell_type": "code",
   "execution_count": 17,
   "id": "00afc9f2-ff88-4c1e-a298-7a04a365a44e",
   "metadata": {},
   "outputs": [],
   "source": [
    "clue = \"rectory\""
   ]
  },
  {
   "cell_type": "code",
   "execution_count": 18,
   "id": "567694da-e980-4f31-986b-805fe28abf5a",
   "metadata": {},
   "outputs": [
    {
     "data": {
      "text/plain": [
       "'church'"
      ]
     },
     "execution_count": 18,
     "metadata": {},
     "output_type": "execute_result"
    }
   ],
   "source": [
    "word2vec.most_similar_to_given(clue, board_words)"
   ]
  },
  {
   "cell_type": "code",
   "execution_count": 21,
   "id": "08c288ae-a4dc-4f2c-ad58-11229dfb577d",
   "metadata": {},
   "outputs": [],
   "source": [
    "board_words.remove(\"church\")"
   ]
  },
  {
   "cell_type": "code",
   "execution_count": 23,
   "id": "f1411014-9135-4b8d-9887-fdb145c503c5",
   "metadata": {},
   "outputs": [
    {
     "data": {
      "text/plain": [
       "'compound'"
      ]
     },
     "execution_count": 23,
     "metadata": {},
     "output_type": "execute_result"
    }
   ],
   "source": [
    "word2vec.most_similar_to_given(clue, board_words)"
   ]
  },
  {
   "cell_type": "code",
   "execution_count": 25,
   "id": "28c0d4b1-5d1a-4894-9bff-6f3aeae0bb7b",
   "metadata": {},
   "outputs": [],
   "source": [
    "board_words.remove(\"compound\")"
   ]
  },
  {
   "cell_type": "code",
   "execution_count": 26,
   "id": "16f95eb8-94f9-462a-9458-c7b6e062ba28",
   "metadata": {},
   "outputs": [
    {
     "data": {
      "text/plain": [
       "'bar'"
      ]
     },
     "execution_count": 26,
     "metadata": {},
     "output_type": "execute_result"
    }
   ],
   "source": [
    "word2vec.most_similar_to_given(clue, board_words)"
   ]
  },
  {
   "cell_type": "code",
   "execution_count": 27,
   "id": "5adb8142-792e-4b30-b6d4-4c2b44cd4360",
   "metadata": {},
   "outputs": [],
   "source": [
    "board_words.remove(\"bar\")"
   ]
  },
  {
   "cell_type": "code",
   "execution_count": 28,
   "id": "46e4d474-1966-47d5-a83b-90fb9a15d60a",
   "metadata": {},
   "outputs": [
    {
     "data": {
      "text/plain": [
       "'glass'"
      ]
     },
     "execution_count": 28,
     "metadata": {},
     "output_type": "execute_result"
    }
   ],
   "source": [
    "word2vec.most_similar_to_given(clue, board_words)"
   ]
  },
  {
   "cell_type": "code",
   "execution_count": 29,
   "id": "f65b6c1e-f496-42b7-8fd9-3a2ca24c83dd",
   "metadata": {},
   "outputs": [],
   "source": [
    "board_words.remove(\"glass\")"
   ]
  },
  {
   "cell_type": "code",
   "execution_count": 30,
   "id": "90b973c6-d615-4fbb-b3c3-614aeff23af0",
   "metadata": {},
   "outputs": [
    {
     "data": {
      "text/plain": [
       "'doctor'"
      ]
     },
     "execution_count": 30,
     "metadata": {},
     "output_type": "execute_result"
    }
   ],
   "source": [
    "word2vec.most_similar_to_given(clue, board_words)"
   ]
  },
  {
   "cell_type": "code",
   "execution_count": 31,
   "id": "a5634370-0c39-4d48-9377-d51f9d3955a4",
   "metadata": {},
   "outputs": [
    {
     "data": {
      "text/plain": [
       "'straw'"
      ]
     },
     "execution_count": 31,
     "metadata": {},
     "output_type": "execute_result"
    }
   ],
   "source": [
    "board_words.remove(\"doctor\")\n",
    "word2vec.most_similar_to_given(clue, board_words)"
   ]
  },
  {
   "cell_type": "code",
   "execution_count": null,
   "id": "439087f0-cdc2-4788-963b-6166bdf721e7",
   "metadata": {},
   "outputs": [],
   "source": []
  },
  {
   "cell_type": "code",
   "execution_count": 17,
   "id": "d8889f0c-c197-4799-a80f-cae3097c8d47",
   "metadata": {},
   "outputs": [],
   "source": [
    "board_words_embeddings = list(map(lambda x : data.get(x), board_words))"
   ]
  },
  {
   "cell_type": "code",
   "execution_count": 19,
   "id": "c06f8da9-1a5c-457a-99cd-396b6a8521ca",
   "metadata": {},
   "outputs": [
    {
     "data": {
      "text/plain": [
       "25"
      ]
     },
     "execution_count": 19,
     "metadata": {},
     "output_type": "execute_result"
    }
   ],
   "source": [
    "len(board_words_embeddings)"
   ]
  },
  {
   "cell_type": "code",
   "execution_count": null,
   "id": "98a2eecb-712b-4ade-bc36-44e3403b84dd",
   "metadata": {},
   "outputs": [],
   "source": []
  },
  {
   "cell_type": "code",
   "execution_count": null,
   "id": "a4b0a6e8-2723-4277-8673-8e1e568e409b",
   "metadata": {},
   "outputs": [],
   "source": []
  },
  {
   "cell_type": "code",
   "execution_count": 30,
   "id": "d82368e7-050a-4c86-bd0d-63c1697a4eb0",
   "metadata": {},
   "outputs": [],
   "source": [
    "from pymilvus import (\n",
    "    connections,\n",
    "    utility,\n",
    "    FieldSchema,\n",
    "    CollectionSchema,\n",
    "    DataType,\n",
    "    Collection,\n",
    ")\n",
    "connections.connect(\"default\", host=\"localhost\", port=\"19530\")"
   ]
  },
  {
   "cell_type": "code",
   "execution_count": 69,
   "id": "f484acab-e5eb-47fa-9968-ce5e02f54dc1",
   "metadata": {},
   "outputs": [],
   "source": [
    "utility.drop_collection(\"fasttext_board_embeddings\")"
   ]
  },
  {
   "cell_type": "code",
   "execution_count": 70,
   "id": "fae306d5-9c83-4219-b51d-a62bfadb7727",
   "metadata": {},
   "outputs": [],
   "source": [
    "fields = [\n",
    "    FieldSchema(\n",
    "        name=\"id\",\n",
    "        dtype=DataType.INT64,\n",
    "        is_primary=True,\n",
    "        auto_id=False),\n",
    "    FieldSchema(\n",
    "        name=\"word\",\n",
    "        dtype=DataType.VARCHAR,\n",
    "        max_length=32,\n",
    "    ),\n",
    "    FieldSchema(\n",
    "        name=\"embeddings\",\n",
    "        dtype=DataType.FLOAT_VECTOR,\n",
    "        dim=300,\n",
    "    )\n",
    "]\n",
    "schema = CollectionSchema(fields, \"Embeddings of the Codenames word pool\")\n",
    "board_db = Collection(\"fasttext_board_embeddings\", schema)    "
   ]
  },
  {
   "cell_type": "code",
   "execution_count": 71,
   "id": "c5e557f1-7106-46fe-bd44-b53b7a98a259",
   "metadata": {},
   "outputs": [],
   "source": [
    "entries = [\n",
    "    [i for i in range(len(board_words))],\n",
    "    board_words,\n",
    "    board_words_embeddings,\n",
    "]"
   ]
  },
  {
   "cell_type": "code",
   "execution_count": 72,
   "id": "800c580e-f319-4b09-9412-9cc2d99220a1",
   "metadata": {},
   "outputs": [],
   "source": [
    "board_db.insert(entries)\n",
    "board_db.flush()  "
   ]
  },
  {
   "cell_type": "code",
   "execution_count": 73,
   "id": "1d5849aa-2b75-466b-9a17-adafcb5a9dce",
   "metadata": {},
   "outputs": [
    {
     "data": {
      "text/plain": [
       "25"
      ]
     },
     "execution_count": 73,
     "metadata": {},
     "output_type": "execute_result"
    }
   ],
   "source": [
    "board_db.num_entities"
   ]
  },
  {
   "cell_type": "code",
   "execution_count": 74,
   "id": "175b0efc-dcaf-4804-a6e7-2ef8aee45443",
   "metadata": {},
   "outputs": [],
   "source": [
    "index = {\n",
    "    \"index_type\": \"IVF_FLAT\",\n",
    "    \"metric_type\": \"COSINE\",\n",
    "    \"params\": {\"nlist\": 128},\n",
    "}\n",
    "board_db.create_index(\"embeddings\", index)\n",
    "board_db.load()"
   ]
  },
  {
   "cell_type": "code",
   "execution_count": 78,
   "id": "896177f4-7286-488b-bbf9-85a1eb612179",
   "metadata": {},
   "outputs": [],
   "source": [
    "clue = \"COPY\"\n",
    "\n",
    "clue_embedding = data.get(clue)"
   ]
  },
  {
   "cell_type": "code",
   "execution_count": 79,
   "id": "5828e818-59b2-43b0-9628-c7c11aca1bd9",
   "metadata": {},
   "outputs": [],
   "source": [
    "vectors_to_search = [clue_embedding]\n",
    "search_params = {\n",
    "    \"metric_type\": \"COSINE\",\n",
    "    \"params\": {\"nprobe\": 10},\n",
    "}\n",
    "result = board_db.search(vectors_to_search, \"embeddings\", search_params, limit=5, output_fields=[\"word\"])"
   ]
  },
  {
   "cell_type": "code",
   "execution_count": 80,
   "id": "05ecdd3d-855b-410d-9a95-484882f0922f",
   "metadata": {},
   "outputs": [
    {
     "name": "stdout",
     "output_type": "stream",
     "text": [
      "====\n",
      "id: 1, distance: 0.2861783504486084, entity: {'word': 'TIME'}\n",
      "id: 4, distance: 0.26706433296203613, entity: {'word': 'STRING'}\n",
      "id: 10, distance: 0.26237812638282776, entity: {'word': 'GOLD'}\n",
      "id: 9, distance: 0.24220968782901764, entity: {'word': 'GAS'}\n",
      "id: 5, distance: 0.23788677155971527, entity: {'word': 'MISSILE'}\n"
     ]
    }
   ],
   "source": [
    "for hits in result:\n",
    "    print(\"====\")\n",
    "    for hit in hits:\n",
    "        print (hit.entity)"
   ]
  },
  {
   "cell_type": "code",
   "execution_count": null,
   "id": "cb14191b-3196-45cd-ab2d-bbbd1fcca810",
   "metadata": {},
   "outputs": [],
   "source": []
  },
  {
   "cell_type": "code",
   "execution_count": null,
   "id": "fc4b43cb-db87-4f73-8c20-d1baf58625ac",
   "metadata": {},
   "outputs": [],
   "source": []
  }
 ],
 "metadata": {
  "kernelspec": {
   "display_name": "Python 3 (ipykernel)",
   "language": "python",
   "name": "python3"
  },
  "language_info": {
   "codemirror_mode": {
    "name": "ipython",
    "version": 3
   },
   "file_extension": ".py",
   "mimetype": "text/x-python",
   "name": "python",
   "nbconvert_exporter": "python",
   "pygments_lexer": "ipython3",
   "version": "3.11.6"
  }
 },
 "nbformat": 4,
 "nbformat_minor": 5
}
